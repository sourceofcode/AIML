{
 "cells": [
  {
   "cell_type": "code",
   "execution_count": 1,
   "metadata": {},
   "outputs": [
    {
     "data": {
      "text/plain": [
       "'\\nAuthor :K venkata charan \\nPhone :7382777766\\nEmail:kvenkatcharan@gmail.com\\n\\n'"
      ]
     },
     "execution_count": 1,
     "metadata": {},
     "output_type": "execute_result"
    }
   ],
   "source": [
    "'''\n",
    "Author :K venkata charan \n",
    "Phone :7382777766\n",
    "Email:kvenkatcharan@gmail.com\n",
    "\n",
    "'''"
   ]
  },
  {
   "cell_type": "code",
   "execution_count": null,
   "metadata": {},
   "outputs": [],
   "source": [
    "import pandas as pd\n",
    "import numpy as np \n",
    "from sklearn.cluster import KMeans\n",
    "import sys\n",
    "#Now we will transform our dataset before appying PCA as PCA works like that\n",
    "\n",
    "#Import package\n",
    "from sklearn.decomposition import PCA"
   ]
  },
  {
   "cell_type": "code",
   "execution_count": 116,
   "metadata": {},
   "outputs": [
    {
     "name": "stdout",
     "output_type": "stream",
     "text": [
      "SSE: 164.27095174653536\n",
      "SSE: 95.48935755157073\n"
     ]
    }
   ],
   "source": [
    "\n",
    "df=pd.read_json('res/NewsArticles.json')\n",
    "df.head()\n",
    "df_final=df['Vector']\n",
    "df_final.shape\n",
    "vectors=pd.DataFrame(list(df_final))\n",
    "#vectors=pd.DataFrame(det)\n",
    "vectors.shape\n",
    "#Kmeans without PCA\n",
    "#Here we will apply K-Means on the \"vector column\". Use the parameters mentioned in the question for\n",
    "#K-Means\n",
    "model=KMeans(n_clusters=5)\n",
    "model.fit(vectors)\n",
    "print (\"SSE: \"+str(model.inertia_))\n",
    "sse=np.round(model.inertia_,2)\n",
    "\n",
    "#Now we will create a separate column where we will store the cluster number as per the blog on each Row\n",
    "#And we will check the count of each cluster in 179 rows.\n",
    "df['LabelWithoutPCA']=model.labels_\n",
    "df['LabelWithoutPCA'].value_counts()\n",
    "d1=pd.DataFrame(df['LabelWithoutPCA'].value_counts()).reset_index(level=0)\n",
    "h_cluster=d1.loc[d['LabelWithoutPCA']==d['LabelWithoutPCA'].max(),]['index'][0]\n",
    "h_cluster_count=d1.loc[d['LabelWithoutPCA']==d['LabelWithoutPCA'].max(),]['LabelWithoutPCA'][0]\n",
    "pca = PCA(n_components=100)\n",
    "pca.fit(vectors.transpose())\n",
    "#After applying PCA we will transform our data back to original format so that we can get 179*100 matrix\n",
    "new_vectors=pd.DataFrame(pca.components_).transpose()\n",
    "model_pca=KMeans(n_clusters=5)\n",
    "model_pca.fit(new_vectors)\n",
    "print (\"SSE: \"+str(model_pca.inertia_))\n",
    "sse_pca=round(model_pca.inertia_,2)\n",
    "df['LabelWithPCA']=model_pca.labels_\n",
    "d2=pd.DataFrame(df['LabelWithPCA'].value_counts()).reset_index(level=0)\n",
    "h_cluster_pca=d2.loc[d2['LabelWithPCA']==d2['LabelWithPCA'].max(),]['index'][0]\n",
    "h_cluster_count_pca=d2.loc[d2['LabelWithPCA']==d2['LabelWithPCA'].max(),]['LabelWithPCA'][0]\n",
    "arr=[]\n",
    "for each,subset in df.groupby('LabelWithoutPCA'):\n",
    "  #  print (\"For Label :\",each)\n",
    "    arr.append(' '.join(subset['Preprocessed-Article']).lower().split()[:50])\n",
    "   # print ( ' '.join(subset['Preprocessed-Article']).lower().split()[:50] ) \n",
    "   # print()\n",
    "arr_pca=[]\n",
    "for each,subset in df.groupby('LabelWithPCA'):\n",
    "    #print (\"For Label :\",each)\n",
    "    arr_pca.append(' '.join(subset['Preprocessed-Article']).lower().split()[:50])\n",
    "    #print ( ' '.join(subset['Preprocessed-Article']).lower().split()[:50] ) \n",
    "   # print()\n",
    "result=[sse,sse_pca,h_cluster,h_cluster_count,h_cluster_pca,h_cluster_count_pca,arr[4][-1],arr_pca[2][-1]]\n"
   ]
  },
  {
   "cell_type": "code",
   "execution_count": 117,
   "metadata": {},
   "outputs": [
    {
     "data": {
      "text/plain": [
       "[164.27, 95.49, 3, 52, 2, 165, 'recorded', 'day']"
      ]
     },
     "execution_count": 117,
     "metadata": {},
     "output_type": "execute_result"
    }
   ],
   "source": [
    "result"
   ]
  },
  {
   "cell_type": "code",
   "execution_count": null,
   "metadata": {},
   "outputs": [],
   "source": [
    "\n"
   ]
  },
  {
   "cell_type": "code",
   "execution_count": 104,
   "metadata": {},
   "outputs": [],
   "source": []
  },
  {
   "cell_type": "code",
   "execution_count": 110,
   "metadata": {},
   "outputs": [],
   "source": []
  },
  {
   "cell_type": "code",
   "execution_count": 109,
   "metadata": {},
   "outputs": [
    {
     "data": {
      "text/plain": [
       "'martin'"
      ]
     },
     "execution_count": 109,
     "metadata": {},
     "output_type": "execute_result"
    }
   ],
   "source": [
    "\n"
   ]
  },
  {
   "cell_type": "code",
   "execution_count": 29,
   "metadata": {},
   "outputs": [
    {
     "name": "stdout",
     "output_type": "stream",
     "text": [
      "SSE: 95.38702757176759\n"
     ]
    }
   ],
   "source": []
  },
  {
   "cell_type": "code",
   "execution_count": null,
   "metadata": {},
   "outputs": [],
   "source": []
  },
  {
   "cell_type": "code",
   "execution_count": 111,
   "metadata": {},
   "outputs": [
    {
     "name": "stdout",
     "output_type": "stream",
     "text": [
      "For Label : 0\n",
      "['labour', 'targets', 'hardcore', 'truants', 'a', 'fresh', 'crackdown', 'persistent', 'truants', 'england', 'launched', 'education', 'secretary', 'ruth', 'kelly', 'serial', 'truants', 'make', 'one', '13', 'pupils', 'previous', 'initiatives', 'brought', '40000', 'pupils', 'back', 'school', 'since', '1997', 'according', 'official', 'statistics', 'parenting', 'contracts', 'penalty', 'notices', 'fast', 'track', 'prosecution', 'systems', 'used', 'tackle', 'stubborn', 'problem', 'it', 'thought', 'nearly', 'half', 'million']\n",
      "\n",
      "For Label : 1\n",
      "['iran', 'jails', 'blogger', '14', 'years', 'an', 'iranian', 'weblogger', 'jailed', '14', 'years', 'charges', 'spying', 'aiding', 'foreign', 'counterrevolutionaries', 'arash', 'sigarchi', 'arrested', 'last', 'month', 'using', 'blog', 'criticise', 'arrest', 'online', 'journalists', 'mr', 'sigarchi', 'also', 'edits', 'newspaper', 'northern', 'iran', 'sentenced', 'revolutionary', 'court', 'gilan', 'area', 'his', 'sentence', 'criticised', 'human', 'rights', 'watchdog', 'reporters', 'without', 'borders', 'comes', 'day']\n",
      "\n",
      "For Label : 2\n",
      "['eu', 'software', 'patent', 'law', 'faces', 'axe', 'the', 'european', 'parliament', 'thrown', 'bill', 'would', 'allowed', 'software', 'patented', 'politicians', 'unanimously', 'rejected', 'bill', 'must', 'go', 'another', 'round', 'consultation', 'chance', 'becoming', 'law', 'during', 'consultation', 'software', 'patents', 'bill', 'could', 'substantially', 'redrafted', 'even', 'scrapped', 'the', 'bill', 'backed', 'hitech', 'firms', 'saying', 'needed', 'protections', 'offered', 'make', 'research', 'worthwhile', 'hugo']\n",
      "\n",
      "For Label : 3\n",
      "['collins', 'banned', 'landmark', 'case', 'sprinter', 'michelle', 'collins', 'received', 'eightyear', 'ban', 'doping', 'offences', 'hearing', 'north', 'american', 'court', 'arbitration', 'sport', 'cas', 'america', 'former', 'world', 'indoor', '200m', 'champion', 'first', 'athlete', 'suspended', 'without', 'positive', 'drugs', 'test', 'admission', 'drugs', 'use', 'collins', 'ban', 'result', 'connection', 'federal', 'inquiry', 'balco', 'doping', 'scandal', 'the', '33yearold', 'found', 'guilty', 'using', 'performanceenhancing']\n",
      "\n",
      "For Label : 4\n",
      "['levy', 'tipped', 'whitbread', 'prize', 'novelist', 'andrea', 'levy', 'favourite', 'win', 'main', 'whitbread', 'prize', 'book', 'year', 'award', 'winning', 'novel', 'year', 'book', 'small', 'island', 'the', 'book', 'already', 'orange', 'prize', 'fiction', '54', 'favourite', '£25000', 'whitbread', 'second', 'favourite', 'biography', 'mary', 'queen', 'scots', 'john', 'guy', 'a', 'panel', 'judges', 'including', 'sir', 'trevor', 'mcdonald', 'actor', 'hugh', 'grant', 'writer']\n",
      "\n"
     ]
    }
   ],
   "source": []
  },
  {
   "cell_type": "code",
   "execution_count": null,
   "metadata": {},
   "outputs": [],
   "source": []
  },
  {
   "cell_type": "code",
   "execution_count": null,
   "metadata": {},
   "outputs": [],
   "source": []
  },
  {
   "cell_type": "code",
   "execution_count": null,
   "metadata": {},
   "outputs": [],
   "source": []
  }
 ],
 "metadata": {
  "kernelspec": {
   "display_name": "Python 3",
   "language": "python",
   "name": "python3"
  },
  "language_info": {
   "codemirror_mode": {
    "name": "ipython",
    "version": 3
   },
   "file_extension": ".py",
   "mimetype": "text/x-python",
   "name": "python",
   "nbconvert_exporter": "python",
   "pygments_lexer": "ipython3",
   "version": "3.7.6"
  }
 },
 "nbformat": 4,
 "nbformat_minor": 4
}
