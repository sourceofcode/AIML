{
 "cells": [
  {
   "cell_type": "code",
   "execution_count": 29,
   "metadata": {},
   "outputs": [],
   "source": [
    "from pmdarima import auto_arima\n",
    "import pandas as pd\n",
    "import numpy as np\n",
    "from datetime import datetime, timedelta\n",
    "from sklearn.metrics import mean_absolute_error"
   ]
  },
  {
   "cell_type": "code",
   "execution_count": null,
   "metadata": {},
   "outputs": [],
   "source": [
    "#ques 1\n",
    "from pmdarima.arima import auto_arima\n",
    "import pandas as pd\n",
    "import numpy as np\n",
    "from datetime import datetime\n",
    "import sys\n",
    "sys.path.append('../')\n",
    "def getDateTime(date):\n",
    "    date=str(date)\n",
    "    return datetime(int(date[:4]),int(date[4:6]),int(date[6:]))\n",
    "\n",
    "\n",
    "def solution():\n",
    "    #Reading the datasets\n",
    "    historical_Data=pd.read_csv('res/Historical_Data.csv')\n",
    "    historical_Data['Date']=historical_Data['Date'].apply(getDateTime)\n",
    "    historical_Data['Month']=historical_Data['Date'].dt.month\n",
    "    aggre_date=historical_Data.groupby(['Date']).aggregate({'Sold_Units':'sum'}).reset_index()\n",
    "    total_sale_days=len(aggre_date.loc[aggre_date['Sold_Units']>3,]['Date'])\n",
    "    fr_aug=historical_Data.loc[(historical_Data['Month']==8 ) & (historical_Data['Country_Code']=='FR'),'Sold_Units'].sum()\n",
    "    At_units=historical_Data.loc[(historical_Data['Country_Code']=='AT'),'Sold_Units'].sum()\n",
    "\n",
    "    result = [total_sale_days,fr_aug,At_units]\n",
    "    result=pd.DataFrame(result)\n",
    "    #writing output to output.csv\n",
    "    result.to_csv('output/output.csv', header=False, index=False)"
   ]
  },
  {
   "cell_type": "code",
   "execution_count": 75,
   "metadata": {},
   "outputs": [],
   "source": [
    "#Ques 2"
   ]
  },
  {
   "cell_type": "code",
   "execution_count": null,
   "metadata": {},
   "outputs": [],
   "source": [
    "\n",
    "from pmdarima.arima import auto_arima\n",
    "import pandas as pd\n",
    "import numpy as np\n",
    "from datetime import datetime\n",
    "import sys\n",
    "sys.path.append('../')\n",
    "def getDateTime(date):\n",
    "    date=str(date)\n",
    "    return datetime(int(date[:4]),int(date[4:6]),int(date[6:]))\n",
    "\n",
    "\n",
    "def solution():\n",
    "    #Reading the datasets\n",
    "    historical_Data=pd.read_csv('res/Historical_Data.csv')\n",
    "    historical_Data['Date']=historical_Data['Date'].apply(getDateTime)\n",
    "    df_fr=historical_Data\n",
    "    df_fr_grp=df_fr.groupby(['Date']).aggregate({'Sold_Units':'sum'})\n",
    "    df_grp=df_fr.groupby(['Date','Country_Code']).aggregate({'Sold_Units':'sum'}).reset_index()\n",
    "    df_grp.set_index('Date')\n",
    "    df_fr_grp=df_grp.loc[df_grp['Country_Code']=='FR',]\n",
    "    df_AT_grp=df_grp.loc[df_grp['Country_Code']=='AT',]\n",
    "    len1=len(df_AT_grp)\n",
    "    len1\n",
    "    idx = pd.date_range(df_AT_grp['Date'].min(), df_AT_grp['Date'].max())\n",
    "    df_AT_grp=df_AT_grp.reindex(idx, fill_value=0)\n",
    "    len2=len(df_AT_grp)\n",
    "    non_sale_days=len2-len1 \n",
    "    result = [str(df_fr_grp['Date'].min()).split(\" \")[0],non_sale_days]\n",
    "    result=pd.DataFrame(result)\n",
    "    #writing output to output.csv\n",
    "    result.to_csv('output/output.csv', header=False, index=False)"
   ]
  },
  {
   "cell_type": "code",
   "execution_count": 178,
   "metadata": {},
   "outputs": [],
   "source": []
  },
  {
   "cell_type": "code",
   "execution_count": null,
   "metadata": {},
   "outputs": [],
   "source": [
    "# 3"
   ]
  },
  {
   "cell_type": "code",
   "execution_count": 246,
   "metadata": {},
   "outputs": [],
   "source": [
    "from pmdarima.arima import auto_arima\n",
    "import pandas as pd\n",
    "import numpy as np\n",
    "from datetime import datetime\n",
    "from sklearn.metrics import mean_absolute_error\n",
    "import sys\n",
    "sys.path.append('../')\n",
    "def getDateTime(date):\n",
    "    date=str(date)\n",
    "    return datetime(int(date[:4]),int(date[4:6]),int(date[6:]))\n",
    "\n",
    "\n",
    "\n",
    "def solution():\n",
    "    historical_Data=pd.read_csv('res/Historical_Data.csv')\n",
    "    historical_Data['Date']=historical_Data['Date'].apply(getDateTime)\n",
    "    country_codes=list(historical_Data['Country_Code'].unique())\n",
    "    df_grp=historical_Data.groupby(['Date','Country_Code']).aggregate({'Sold_Units':'sum'}).reset_index()\n",
    "    df_grp=df_grp.set_index('Date')\n",
    "    df_grp=df_grp.sort_index()\n",
    "    maerr=[]\n",
    "    for cc in country_codes:\n",
    "        df=df_grp.loc[df_grp['Country_Code']==cc,['Sold_Units']]\n",
    "        df_test=df.iloc[len(df)-10:,]\n",
    "        df_train=df.iloc[:len(df)-10,]\n",
    "        model=auto_arima(df_train,trace=True,suppress_warnings=True,error_action='ignore')\n",
    "        model.fit(df_train)\n",
    "        df_test['predicted']=model.predict(n_periods=10)\n",
    "        mae=mean_absolute_error(df_test['predicted'],df_test['Sold_Units'])\n",
    "        maerr.append(np.round(mae,2))\n",
    "    result=pd.DataFrame(maerr)\n",
    "    print(result)\n",
    "        #writing output to output.csv\n",
    "    #result.to_csv('output/output.csv', header=False, index=False)"
   ]
  },
  {
   "cell_type": "code",
   "execution_count": 248,
   "metadata": {},
   "outputs": [
    {
     "name": "stdout",
     "output_type": "stream",
     "text": [
      "Performing stepwise search to minimize aic\n",
      " ARIMA(2,1,2)(0,0,0)[0] intercept   : AIC=2119.693, Time=0.80 sec\n",
      " ARIMA(0,1,0)(0,0,0)[0] intercept   : AIC=2439.681, Time=0.03 sec\n",
      " ARIMA(1,1,0)(0,0,0)[0] intercept   : AIC=2270.477, Time=0.08 sec\n",
      " ARIMA(0,1,1)(0,0,0)[0] intercept   : AIC=2114.340, Time=0.17 sec\n",
      " ARIMA(0,1,0)(0,0,0)[0]             : AIC=2437.689, Time=0.02 sec\n",
      " ARIMA(1,1,1)(0,0,0)[0] intercept   : AIC=2116.011, Time=0.74 sec\n",
      " ARIMA(0,1,2)(0,0,0)[0] intercept   : AIC=2116.065, Time=0.31 sec\n",
      " ARIMA(1,1,2)(0,0,0)[0] intercept   : AIC=2118.338, Time=0.28 sec\n",
      " ARIMA(0,1,1)(0,0,0)[0]             : AIC=2113.193, Time=0.07 sec\n",
      " ARIMA(1,1,1)(0,0,0)[0]             : AIC=2114.951, Time=0.10 sec\n",
      " ARIMA(0,1,2)(0,0,0)[0]             : AIC=2114.989, Time=0.11 sec\n",
      " ARIMA(1,1,0)(0,0,0)[0]             : AIC=2268.494, Time=0.03 sec\n",
      " ARIMA(1,1,2)(0,0,0)[0]             : AIC=2117.192, Time=0.13 sec\n",
      "\n",
      "Best model:  ARIMA(0,1,1)(0,0,0)[0]          \n",
      "Total fit time: 2.874 seconds\n"
     ]
    },
    {
     "name": "stderr",
     "output_type": "stream",
     "text": [
      "/Users/apple/anaconda3/lib/python3.7/site-packages/ipykernel_launcher.py:14: SettingWithCopyWarning: \n",
      "A value is trying to be set on a copy of a slice from a DataFrame.\n",
      "Try using .loc[row_indexer,col_indexer] = value instead\n",
      "\n",
      "See the caveats in the documentation: https://pandas.pydata.org/pandas-docs/stable/user_guide/indexing.html#returning-a-view-versus-a-copy\n",
      "  \n"
     ]
    },
    {
     "name": "stdout",
     "output_type": "stream",
     "text": [
      "Performing stepwise search to minimize aic\n",
      " ARIMA(2,0,2)(0,0,0)[0] intercept   : AIC=2648.670, Time=0.76 sec\n",
      " ARIMA(0,0,0)(0,0,0)[0] intercept   : AIC=2738.697, Time=0.04 sec\n",
      " ARIMA(1,0,0)(0,0,0)[0] intercept   : AIC=2665.834, Time=0.11 sec\n",
      " ARIMA(0,0,1)(0,0,0)[0] intercept   : AIC=2676.939, Time=0.12 sec\n",
      " ARIMA(0,0,0)(0,0,0)[0]             : AIC=3419.185, Time=0.02 sec\n",
      " ARIMA(1,0,2)(0,0,0)[0] intercept   : AIC=2646.993, Time=0.59 sec\n",
      " ARIMA(0,0,2)(0,0,0)[0] intercept   : AIC=2672.642, Time=0.16 sec\n",
      " ARIMA(1,0,1)(0,0,0)[0] intercept   : AIC=2657.696, Time=0.36 sec\n",
      " ARIMA(1,0,3)(0,0,0)[0] intercept   : AIC=2648.827, Time=0.93 sec\n",
      " ARIMA(0,0,3)(0,0,0)[0] intercept   : AIC=2666.356, Time=0.19 sec\n",
      " ARIMA(2,0,1)(0,0,0)[0] intercept   : AIC=2648.046, Time=0.71 sec\n",
      " ARIMA(2,0,3)(0,0,0)[0] intercept   : AIC=2647.447, Time=0.83 sec\n",
      " ARIMA(1,0,2)(0,0,0)[0]             : AIC=2658.884, Time=0.25 sec\n",
      "\n",
      "Best model:  ARIMA(1,0,2)(0,0,0)[0] intercept\n",
      "Total fit time: 5.089 seconds\n"
     ]
    },
    {
     "name": "stderr",
     "output_type": "stream",
     "text": [
      "/Users/apple/anaconda3/lib/python3.7/site-packages/ipykernel_launcher.py:14: SettingWithCopyWarning: \n",
      "A value is trying to be set on a copy of a slice from a DataFrame.\n",
      "Try using .loc[row_indexer,col_indexer] = value instead\n",
      "\n",
      "See the caveats in the documentation: https://pandas.pydata.org/pandas-docs/stable/user_guide/indexing.html#returning-a-view-versus-a-copy\n",
      "  \n"
     ]
    },
    {
     "name": "stdout",
     "output_type": "stream",
     "text": [
      "Performing stepwise search to minimize aic\n",
      " ARIMA(2,1,2)(0,0,0)[0] intercept   : AIC=3355.254, Time=0.33 sec\n",
      " ARIMA(0,1,0)(0,0,0)[0] intercept   : AIC=3579.452, Time=0.02 sec\n",
      " ARIMA(1,1,0)(0,0,0)[0] intercept   : AIC=3493.814, Time=0.08 sec\n",
      " ARIMA(0,1,1)(0,0,0)[0] intercept   : AIC=3381.488, Time=0.14 sec\n",
      " ARIMA(0,1,0)(0,0,0)[0]             : AIC=3577.484, Time=0.02 sec\n",
      " ARIMA(1,1,2)(0,0,0)[0] intercept   : AIC=3353.278, Time=0.39 sec\n",
      " ARIMA(0,1,2)(0,0,0)[0] intercept   : AIC=3354.153, Time=0.23 sec\n",
      " ARIMA(1,1,1)(0,0,0)[0] intercept   : AIC=3351.681, Time=0.21 sec\n",
      " ARIMA(2,1,1)(0,0,0)[0] intercept   : AIC=3353.539, Time=0.33 sec\n",
      " ARIMA(2,1,0)(0,0,0)[0] intercept   : AIC=3433.814, Time=0.12 sec\n",
      " ARIMA(1,1,1)(0,0,0)[0]             : AIC=3352.122, Time=0.10 sec\n",
      "\n",
      "Best model:  ARIMA(1,1,1)(0,0,0)[0] intercept\n",
      "Total fit time: 1.979 seconds\n"
     ]
    },
    {
     "name": "stderr",
     "output_type": "stream",
     "text": [
      "/Users/apple/anaconda3/lib/python3.7/site-packages/ipykernel_launcher.py:14: SettingWithCopyWarning: \n",
      "A value is trying to be set on a copy of a slice from a DataFrame.\n",
      "Try using .loc[row_indexer,col_indexer] = value instead\n",
      "\n",
      "See the caveats in the documentation: https://pandas.pydata.org/pandas-docs/stable/user_guide/indexing.html#returning-a-view-versus-a-copy\n",
      "  \n"
     ]
    },
    {
     "name": "stdout",
     "output_type": "stream",
     "text": [
      "Performing stepwise search to minimize aic\n",
      " ARIMA(2,1,2)(0,0,0)[0] intercept   : AIC=4288.764, Time=0.36 sec\n",
      " ARIMA(0,1,0)(0,0,0)[0] intercept   : AIC=4523.064, Time=0.03 sec\n",
      " ARIMA(1,1,0)(0,0,0)[0] intercept   : AIC=4420.979, Time=0.10 sec\n",
      " ARIMA(0,1,1)(0,0,0)[0] intercept   : AIC=4301.417, Time=0.13 sec\n",
      " ARIMA(0,1,0)(0,0,0)[0]             : AIC=4521.065, Time=0.02 sec\n",
      " ARIMA(1,1,2)(0,0,0)[0] intercept   : AIC=4286.820, Time=0.26 sec\n",
      " ARIMA(0,1,2)(0,0,0)[0] intercept   : AIC=4289.279, Time=0.19 sec\n",
      " ARIMA(1,1,1)(0,0,0)[0] intercept   : AIC=4290.882, Time=0.23 sec\n",
      " ARIMA(1,1,3)(0,0,0)[0] intercept   : AIC=4288.802, Time=0.46 sec\n",
      " ARIMA(0,1,3)(0,0,0)[0] intercept   : AIC=4289.396, Time=0.27 sec\n",
      " ARIMA(2,1,1)(0,0,0)[0] intercept   : AIC=4292.731, Time=0.47 sec\n",
      " ARIMA(2,1,3)(0,0,0)[0] intercept   : AIC=4286.622, Time=0.78 sec\n",
      " ARIMA(3,1,3)(0,0,0)[0] intercept   : AIC=inf, Time=1.61 sec\n",
      " ARIMA(2,1,4)(0,0,0)[0] intercept   : AIC=inf, Time=1.54 sec\n",
      " ARIMA(1,1,4)(0,0,0)[0] intercept   : AIC=inf, Time=1.46 sec\n",
      " ARIMA(3,1,2)(0,0,0)[0] intercept   : AIC=inf, Time=1.21 sec\n",
      " ARIMA(3,1,4)(0,0,0)[0] intercept   : AIC=inf, Time=1.81 sec\n",
      " ARIMA(2,1,3)(0,0,0)[0]             : AIC=4284.636, Time=0.38 sec\n",
      " ARIMA(1,1,3)(0,0,0)[0]             : AIC=4286.819, Time=0.21 sec\n",
      " ARIMA(2,1,2)(0,0,0)[0]             : AIC=4286.780, Time=0.18 sec\n",
      " ARIMA(3,1,3)(0,0,0)[0]             : AIC=inf, Time=0.86 sec\n",
      " ARIMA(2,1,4)(0,0,0)[0]             : AIC=inf, Time=0.81 sec\n",
      " ARIMA(1,1,2)(0,0,0)[0]             : AIC=4284.837, Time=0.12 sec\n",
      " ARIMA(1,1,4)(0,0,0)[0]             : AIC=inf, Time=0.53 sec\n",
      " ARIMA(3,1,2)(0,0,0)[0]             : AIC=inf, Time=0.44 sec\n",
      " ARIMA(3,1,4)(0,0,0)[0]             : AIC=inf, Time=1.14 sec\n",
      "\n",
      "Best model:  ARIMA(2,1,3)(0,0,0)[0]          \n",
      "Total fit time: 15.650 seconds\n",
      "      0\n",
      "0  2.07\n",
      "1  1.33\n",
      "2  4.14\n",
      "3  2.12\n"
     ]
    },
    {
     "name": "stderr",
     "output_type": "stream",
     "text": [
      "/Users/apple/anaconda3/lib/python3.7/site-packages/ipykernel_launcher.py:14: SettingWithCopyWarning: \n",
      "A value is trying to be set on a copy of a slice from a DataFrame.\n",
      "Try using .loc[row_indexer,col_indexer] = value instead\n",
      "\n",
      "See the caveats in the documentation: https://pandas.pydata.org/pandas-docs/stable/user_guide/indexing.html#returning-a-view-versus-a-copy\n",
      "  \n"
     ]
    }
   ],
   "source": [
    "historical_Data=pd.read_csv('res/Historical_Data.csv')\n",
    "historical_Data['Date']=historical_Data['Date'].apply(getDateTime)\n",
    "country_codes=list(historical_Data['Country_Code'].unique())\n",
    "df_grp=historical_Data.groupby(['Date','Country_Code']).aggregate({'Sold_Units':'sum'}).reset_index()\n",
    "df_grp=df_grp.set_index('Date')\n",
    "df_grp=df_grp.sort_index()\n",
    "maerr=[]\n",
    "for cc in country_codes:\n",
    "    df=df_grp.loc[df_grp['Country_Code']==cc,['Sold_Units']]\n",
    "    df_test=df.iloc[len(df)-10:,]\n",
    "    df_train=df.iloc[:len(df)-10,]\n",
    "    model=auto_arima(df_train,trace=True,suppress_warnings=True,error_action='ignore')\n",
    "    model.fit(df_train)\n",
    "    df_test['predicted']=model.predict(n_periods=10)\n",
    "    mae=mean_absolute_error(df_test['predicted'],df_test['Sold_Units'])\n",
    "    maerr.append(np.round(mae,2))\n",
    "result=pd.DataFrame(maerr)\n",
    "print(result)"
   ]
  },
  {
   "cell_type": "code",
   "execution_count": null,
   "metadata": {},
   "outputs": [],
   "source": []
  },
  {
   "cell_type": "code",
   "execution_count": null,
   "metadata": {},
   "outputs": [],
   "source": []
  }
 ],
 "metadata": {
  "kernelspec": {
   "display_name": "Python 3",
   "language": "python",
   "name": "python3"
  },
  "language_info": {
   "codemirror_mode": {
    "name": "ipython",
    "version": 3
   },
   "file_extension": ".py",
   "mimetype": "text/x-python",
   "name": "python",
   "nbconvert_exporter": "python",
   "pygments_lexer": "ipython3",
   "version": "3.7.6"
  }
 },
 "nbformat": 4,
 "nbformat_minor": 4
}
