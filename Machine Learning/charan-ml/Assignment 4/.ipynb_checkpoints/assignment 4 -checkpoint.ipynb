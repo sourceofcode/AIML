{
 "cells": [
  {
   "cell_type": "code",
   "execution_count": 29,
   "metadata": {},
   "outputs": [],
   "source": [
    "from pmdarima import auto_arima\n",
    "import pandas as pd\n",
    "import numpy as np\n",
    "from datetime import datetime, timedelta\n",
    "from sklearn.metrics import mean_absolute_error"
   ]
  },
  {
   "cell_type": "code",
   "execution_count": null,
   "metadata": {},
   "outputs": [],
   "source": [
    "#ques 1\n",
    "from pmdarima.arima import auto_arima\n",
    "import pandas as pd\n",
    "import numpy as np\n",
    "from datetime import datetime\n",
    "import sys\n",
    "sys.path.append('../')\n",
    "def getDateTime(date):\n",
    "    date=str(date)\n",
    "    return datetime(int(date[:4]),int(date[4:6]),int(date[6:]))\n",
    "\n",
    "\n",
    "def solution():\n",
    "    #Reading the datasets\n",
    "    historical_Data=pd.read_csv('res/Historical_Data.csv')\n",
    "    historical_Data['Date']=historical_Data['Date'].apply(getDateTime)\n",
    "    historical_Data['Month']=historical_Data['Date'].dt.month\n",
    "    aggre_date=historical_Data.groupby(['Date']).aggregate({'Sold_Units':'sum'}).reset_index()\n",
    "    total_sale_days=len(aggre_date.loc[aggre_date['Sold_Units']>3,]['Date'])\n",
    "    fr_aug=historical_Data.loc[(historical_Data['Month']==8 ) & (historical_Data['Country_Code']=='FR'),'Sold_Units'].sum()\n",
    "    At_units=historical_Data.loc[(historical_Data['Country_Code']=='AT'),'Sold_Units'].sum()\n",
    "\n",
    "    result = [total_sale_days,fr_aug,At_units]\n",
    "    result=pd.DataFrame(result)\n",
    "    #writing output to output.csv\n",
    "    result.to_csv('output/output.csv', header=False, index=False)"
   ]
  },
  {
   "cell_type": "code",
   "execution_count": 75,
   "metadata": {},
   "outputs": [],
   "source": [
    "#Ques 2"
   ]
  },
  {
   "cell_type": "code",
   "execution_count": null,
   "metadata": {},
   "outputs": [],
   "source": [
    "\n",
    "from pmdarima.arima import auto_arima\n",
    "import pandas as pd\n",
    "import numpy as np\n",
    "from datetime import datetime\n",
    "import sys\n",
    "sys.path.append('../')\n",
    "def getDateTime(date):\n",
    "    date=str(date)\n",
    "    return datetime(int(date[:4]),int(date[4:6]),int(date[6:]))\n",
    "\n",
    "\n",
    "def solution():\n",
    "    #Reading the datasets\n",
    "    historical_Data=pd.read_csv('res/Historical_Data.csv')\n",
    "    historical_Data['Date']=historical_Data['Date'].apply(getDateTime)\n",
    "    df_fr=historical_Data\n",
    "    df_fr_grp=df_fr.groupby(['Date']).aggregate({'Sold_Units':'sum'})\n",
    "    df_grp=df_fr.groupby(['Date','Country_Code']).aggregate({'Sold_Units':'sum'}).reset_index()\n",
    "    df_grp.set_index('Date')\n",
    "    df_fr_grp=df_grp.loc[df_grp['Country_Code']=='FR',]\n",
    "    df_AT_grp=df_grp.loc[df_grp['Country_Code']=='AT',]\n",
    "    len1=len(df_AT_grp)\n",
    "    len1\n",
    "    idx = pd.date_range(df_AT_grp['Date'].min(), df_AT_grp['Date'].max())\n",
    "    df_AT_grp=df_AT_grp.reindex(idx, fill_value=0)\n",
    "    len2=len(df_AT_grp)\n",
    "    non_sale_days=len2-len1 \n",
    "    result = [str(df_fr_grp['Date'].min()).split(\" \")[0],non_sale_days]\n",
    "    result=pd.DataFrame(result)\n",
    "    #writing output to output.csv\n",
    "    result.to_csv('output/output.csv', header=False, index=False)"
   ]
  },
  {
   "cell_type": "code",
   "execution_count": 178,
   "metadata": {},
   "outputs": [],
   "source": []
  },
  {
   "cell_type": "code",
   "execution_count": null,
   "metadata": {},
   "outputs": [],
   "source": [
    "# 3"
   ]
  },
  {
   "cell_type": "code",
   "execution_count": 242,
   "metadata": {},
   "outputs": [],
   "source": [
    "\n",
    "\n",
    "\n"
   ]
  },
  {
   "cell_type": "code",
   "execution_count": 243,
   "metadata": {},
   "outputs": [],
   "source": [
    "from pmdarima.arima import auto_arima\n",
    "import pandas as pd\n",
    "import numpy as np\n",
    "from datetime import datetime\n",
    "from sklearn.metrics import mean_absolute_error\n",
    "import sys\n",
    "sys.path.append('../')\n",
    "def getDateTime(date):\n",
    "    date=str(date)\n",
    "    return datetime(int(date[:4]),int(date[4:6]),int(date[6:]))\n",
    "\n",
    "\n",
    "\n",
    "def solution():\n",
    "    historical_Data=pd.read_csv('res/Historical_Data.csv')\n",
    "    historical_Data['Date']=historical_Data['Date'].apply(getDateTime)\n",
    "    country_codes=list(historical_Data['Country_Code'].unique())\n",
    "    df_grp=historical_Data.groupby(['Date','Country_Code']).aggregate({'Sold_Units':'sum'}).reset_index()\n",
    "    df_grp=df_grp.set_index('Date')\n",
    "    df_grp=df_grp.sort_index()\n",
    "    maerr=[]\n",
    "    for cc in country_codes:\n",
    "        df=df_grp.loc[df_grp['Country_Code']==cc,['Sold_Units']]\n",
    "        df_test=df.iloc[len(df)-10:,]\n",
    "        df_train=df.iloc[:len(df)-10,]\n",
    "        model=auto_arima(df_train,trace=True,suppress_warnings=True,error_action='ignore')\n",
    "        model.fit(df_train)\n",
    "        df_test['predicted']=model.predict(n_periods=10)\n",
    "        mae=mean_absolute_error(df_test['predicted'],df_test['Sold_Units'])\n",
    "        maerr.append(np.round(mae,2))\n",
    "    result=pd.DataFrame(maerr)\n",
    "        #writing output to output.csv\n",
    "    result.to_csv('output/output.csv', header=False, index=False)"
   ]
  },
  {
   "cell_type": "code",
   "execution_count": null,
   "metadata": {},
   "outputs": [],
   "source": [
    "\n",
    "    \n",
    "    "
   ]
  },
  {
   "cell_type": "code",
   "execution_count": 245,
   "metadata": {},
   "outputs": [
    {
     "data": {
      "text/plain": [
       "[2.07, 1.33, 4.14, 2.12]"
      ]
     },
     "execution_count": 245,
     "metadata": {},
     "output_type": "execute_result"
    }
   ],
   "source": [
    "maerr"
   ]
  },
  {
   "cell_type": "code",
   "execution_count": null,
   "metadata": {},
   "outputs": [],
   "source": []
  }
 ],
 "metadata": {
  "kernelspec": {
   "display_name": "Python 3",
   "language": "python",
   "name": "python3"
  },
  "language_info": {
   "codemirror_mode": {
    "name": "ipython",
    "version": 3
   },
   "file_extension": ".py",
   "mimetype": "text/x-python",
   "name": "python",
   "nbconvert_exporter": "python",
   "pygments_lexer": "ipython3",
   "version": "3.7.6"
  }
 },
 "nbformat": 4,
 "nbformat_minor": 4
}
